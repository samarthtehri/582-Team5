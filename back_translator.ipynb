{
 "cells": [
  {
   "cell_type": "code",
   "execution_count": null,
   "metadata": {},
   "outputs": [],
   "source": [
    "pip install transformers\n",
    "$ pip install mosestokenizer"
   ]
  },
  {
   "cell_type": "code",
   "execution_count": null,
   "metadata": {},
   "outputs": [],
   "source": [
    "import MarianMTModel, MarianTokenizer\n",
    "\n",
    "# Helper function to download data for a language\n",
    "def download(model_name):\n",
    "  tokenizer = MarianTokenizer.from_pretrained(model_name)\n",
    "  model = MarianMTModel.from_pretrained(model_name)\n",
    "  return tokenizer, model\n",
    "\n",
    "# download model for English -> Romance\n",
    "tmp_lang_tokenizer, tmp_lang_model = download('Helsinki-NLP/opus-mt-en-ROMANCE')\n",
    "# download model for Romance -> English\n",
    "src_lang_tokenizer, src_lang_model = download('Helsinki-NLP/opus-mt-ROMANCE-en')"
   ]
  },
  {
   "cell_type": "code",
   "execution_count": null,
   "metadata": {},
   "outputs": [],
   "source": [
    "def translate(texts, model, tokenizer, language):\n",
    "  \"\"\"Translate texts into a target language\"\"\"\n",
    "  # Format the text as expected by the model\n",
    "  formatter_fn = lambda txt: f\"{txt}\" if language == \"en\" else f\">>{language}<< {txt}\"\n",
    "  original_texts = [formatter_fn(txt) for txt in texts]\n",
    "\n",
    "  # Tokenize (text to tokens)\n",
    "  tokens = tokenizer.prepare_seq2seq_batch(original_texts)\n",
    "\n",
    "  # Translate\n",
    "  translated = model.generate(**tokens)\n",
    "\n",
    "  # Decode (tokens to text)\n",
    "  translated_texts = tokenizer.batch_decode(translated, skip_special_tokens=True)\n",
    "\n",
    "  return translated_texts\n",
    "\n",
    "def back_translate(texts, language_src, language_dst):\n",
    "  \"\"\"Implements back translation\"\"\"\n",
    "  # Translate from source to target language\n",
    "  translated = translate(texts, tmp_lang_model, tmp_lang_tokenizer, language_dst)\n",
    "\n",
    "  # Translate from target language back to source language\n",
    "  back_translated = translate(translated, src_lang_model, src_lang_tokenizer, language_src)\n",
    "\n",
    "  return back_translated"
   ]
  },
  {
   "cell_type": "code",
   "execution_count": null,
   "metadata": {},
   "outputs": [],
   "source": [
    "src_texts = ['I might be late tonight', 'What a movie, so bad', 'That was very kind']\n",
    "back_texts = back_translate(src_texts, \"en\", \"fr\")\n",
    "\n",
    "print(back_texts)\n",
    "# ['I might be late tonight.', 'What a movie, so bad', 'That was very kind of you.']"
   ]
  },
  {
   "cell_type": "code",
   "execution_count": null,
   "metadata": {},
   "outputs": [],
   "source": [
    "src_texts = ['I might be late tonight', 'What a movie, so bad', 'That was very kind']\n",
    "\n",
    "back_texts = back_translate(src_texts, \"en\", \"es\")\n",
    "print(back_texts)\n",
    "# ['I could be late tonight.', 'What a bad movie!', 'That was very kind of you.']"
   ]
  }
 ],
 "metadata": {
  "language_info": {
   "name": "python"
  }
 },
 "nbformat": 4,
 "nbformat_minor": 2
}
