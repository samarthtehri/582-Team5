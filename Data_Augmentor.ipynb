{
 "cells": [
  {
   "cell_type": "code",
   "execution_count": 4,
   "metadata": {},
   "outputs": [
    {
     "data": {
      "text/html": [
       "<div>\n",
       "<style scoped>\n",
       "    .dataframe tbody tr th:only-of-type {\n",
       "        vertical-align: middle;\n",
       "    }\n",
       "\n",
       "    .dataframe tbody tr th {\n",
       "        vertical-align: top;\n",
       "    }\n",
       "\n",
       "    .dataframe thead th {\n",
       "        text-align: right;\n",
       "    }\n",
       "</style>\n",
       "<table border=\"1\" class=\"dataframe\">\n",
       "  <thead>\n",
       "    <tr style=\"text-align: right;\">\n",
       "      <th></th>\n",
       "      <th>label</th>\n",
       "      <th>category</th>\n",
       "      <th>utterance1</th>\n",
       "      <th>utterance2</th>\n",
       "    </tr>\n",
       "  </thead>\n",
       "  <tbody>\n",
       "    <tr>\n",
       "      <th>0</th>\n",
       "      <td>0</td>\n",
       "      <td>watch_tv_1</td>\n",
       "      <td>{'user': 'Alien', 'text': 'How are you doing t...</td>\n",
       "      <td>{'user': 'Human', 'text': 'I am good, thank yo...</td>\n",
       "    </tr>\n",
       "    <tr>\n",
       "      <th>1</th>\n",
       "      <td>0</td>\n",
       "      <td>watch_tv_1</td>\n",
       "      <td>{'user': 'Human', 'text': 'I am good, thank yo...</td>\n",
       "      <td>{'user': 'Alien', 'text': 'Do you know TV? Wha...</td>\n",
       "    </tr>\n",
       "    <tr>\n",
       "      <th>2</th>\n",
       "      <td>0</td>\n",
       "      <td>watch_tv_1</td>\n",
       "      <td>{'user': 'Alien', 'text': 'Do you know TV? Wha...</td>\n",
       "      <td>{'user': 'Human', 'text': 'The TV is a big scr...</td>\n",
       "    </tr>\n",
       "    <tr>\n",
       "      <th>3</th>\n",
       "      <td>0</td>\n",
       "      <td>watch_tv_1</td>\n",
       "      <td>{'user': 'Human', 'text': 'The TV is a big scr...</td>\n",
       "      <td>{'user': 'Alien', 'text': 'May I watch the TV?...</td>\n",
       "    </tr>\n",
       "    <tr>\n",
       "      <th>4</th>\n",
       "      <td>0</td>\n",
       "      <td>watch_tv_1</td>\n",
       "      <td>{'user': 'Alien', 'text': 'May I watch the TV?...</td>\n",
       "      <td>{'user': 'Human', 'text': 'Sure, and can you h...</td>\n",
       "    </tr>\n",
       "    <tr>\n",
       "      <th>...</th>\n",
       "      <td>...</td>\n",
       "      <td>...</td>\n",
       "      <td>...</td>\n",
       "      <td>...</td>\n",
       "    </tr>\n",
       "    <tr>\n",
       "      <th>5095</th>\n",
       "      <td>0</td>\n",
       "      <td>read_book_0</td>\n",
       "      <td>{'user': 'Human', 'text': 'Sure Zara that seem...</td>\n",
       "      <td>{'user': 'Alien', 'text': 'Okay I will put thi...</td>\n",
       "    </tr>\n",
       "    <tr>\n",
       "      <th>5096</th>\n",
       "      <td>1</td>\n",
       "      <td>read_book_0</td>\n",
       "      <td>{'user': 'Alien', 'text': 'Okay I will put thi...</td>\n",
       "      <td>{'user': 'Human', 'text': 'Make sure you put t...</td>\n",
       "    </tr>\n",
       "    <tr>\n",
       "      <th>5097</th>\n",
       "      <td>0</td>\n",
       "      <td>read_book_0</td>\n",
       "      <td>{'user': 'Human', 'text': 'Make sure you put t...</td>\n",
       "      <td>{'user': 'Alien', 'text': 'You are right Micha...</td>\n",
       "    </tr>\n",
       "    <tr>\n",
       "      <th>5098</th>\n",
       "      <td>1</td>\n",
       "      <td>read_book_0</td>\n",
       "      <td>{'user': 'Alien', 'text': 'You are right Micha...</td>\n",
       "      <td>{'user': 'Human', 'text': 'Now that you know h...</td>\n",
       "    </tr>\n",
       "    <tr>\n",
       "      <th>5099</th>\n",
       "      <td>0</td>\n",
       "      <td>read_book_0</td>\n",
       "      <td>{'user': 'Human', 'text': 'Now that you know h...</td>\n",
       "      <td>{'user': 'Alien', 'text': \"That sounds like a ...</td>\n",
       "    </tr>\n",
       "  </tbody>\n",
       "</table>\n",
       "<p>5100 rows × 4 columns</p>\n",
       "</div>"
      ],
      "text/plain": [
       "      label     category                                         utterance1  \\\n",
       "0         0   watch_tv_1  {'user': 'Alien', 'text': 'How are you doing t...   \n",
       "1         0   watch_tv_1  {'user': 'Human', 'text': 'I am good, thank yo...   \n",
       "2         0   watch_tv_1  {'user': 'Alien', 'text': 'Do you know TV? Wha...   \n",
       "3         0   watch_tv_1  {'user': 'Human', 'text': 'The TV is a big scr...   \n",
       "4         0   watch_tv_1  {'user': 'Alien', 'text': 'May I watch the TV?...   \n",
       "...     ...          ...                                                ...   \n",
       "5095      0  read_book_0  {'user': 'Human', 'text': 'Sure Zara that seem...   \n",
       "5096      1  read_book_0  {'user': 'Alien', 'text': 'Okay I will put thi...   \n",
       "5097      0  read_book_0  {'user': 'Human', 'text': 'Make sure you put t...   \n",
       "5098      1  read_book_0  {'user': 'Alien', 'text': 'You are right Micha...   \n",
       "5099      0  read_book_0  {'user': 'Human', 'text': 'Now that you know h...   \n",
       "\n",
       "                                             utterance2  \n",
       "0     {'user': 'Human', 'text': 'I am good, thank yo...  \n",
       "1     {'user': 'Alien', 'text': 'Do you know TV? Wha...  \n",
       "2     {'user': 'Human', 'text': 'The TV is a big scr...  \n",
       "3     {'user': 'Alien', 'text': 'May I watch the TV?...  \n",
       "4     {'user': 'Human', 'text': 'Sure, and can you h...  \n",
       "...                                                 ...  \n",
       "5095  {'user': 'Alien', 'text': 'Okay I will put thi...  \n",
       "5096  {'user': 'Human', 'text': 'Make sure you put t...  \n",
       "5097  {'user': 'Alien', 'text': 'You are right Micha...  \n",
       "5098  {'user': 'Human', 'text': 'Now that you know h...  \n",
       "5099  {'user': 'Alien', 'text': \"That sounds like a ...  \n",
       "\n",
       "[5100 rows x 4 columns]"
      ]
     },
     "execution_count": 4,
     "metadata": {},
     "output_type": "execute_result"
    }
   ],
   "source": [
    "import pandas as pd\n",
    "import numpy as np\n",
    "\n",
    "df=pd.read_csv(r\"Data\\train\\train.csv\")\n",
    "df\n"
   ]
  },
  {
   "cell_type": "code",
   "execution_count": 5,
   "metadata": {},
   "outputs": [
    {
     "data": {
      "text/plain": [
       "label                                                      1483\n",
       "category      watch_tv_1watch_tv_1watch_tv_1watch_tv_1watch_...\n",
       "utterance1    {'user': 'Alien', 'text': 'How are you doing t...\n",
       "utterance2    {'user': 'Human', 'text': 'I am good, thank yo...\n",
       "dtype: object"
      ]
     },
     "execution_count": 5,
     "metadata": {},
     "output_type": "execute_result"
    }
   ],
   "source": [
    "df.sum()"
   ]
  },
  {
   "cell_type": "code",
   "execution_count": 6,
   "metadata": {},
   "outputs": [
    {
     "data": {
      "text/plain": [
       "3617"
      ]
     },
     "execution_count": 6,
     "metadata": {},
     "output_type": "execute_result"
    }
   ],
   "source": [
    "5100-1483"
   ]
  },
  {
   "cell_type": "code",
   "execution_count": 7,
   "metadata": {},
   "outputs": [
    {
     "data": {
      "text/html": [
       "<div>\n",
       "<style scoped>\n",
       "    .dataframe tbody tr th:only-of-type {\n",
       "        vertical-align: middle;\n",
       "    }\n",
       "\n",
       "    .dataframe tbody tr th {\n",
       "        vertical-align: top;\n",
       "    }\n",
       "\n",
       "    .dataframe thead th {\n",
       "        text-align: right;\n",
       "    }\n",
       "</style>\n",
       "<table border=\"1\" class=\"dataframe\">\n",
       "  <thead>\n",
       "    <tr style=\"text-align: right;\">\n",
       "      <th></th>\n",
       "      <th>label</th>\n",
       "      <th>category</th>\n",
       "      <th>utterance2</th>\n",
       "      <th>utterance1</th>\n",
       "    </tr>\n",
       "  </thead>\n",
       "  <tbody>\n",
       "    <tr>\n",
       "      <th>10</th>\n",
       "      <td>1</td>\n",
       "      <td>watch_tv_1</td>\n",
       "      <td>{'user': 'Human', 'text': 'Now you have found ...</td>\n",
       "      <td>{'user': 'Alien', 'text': \"Got it. Let's go\", ...</td>\n",
       "    </tr>\n",
       "    <tr>\n",
       "      <th>14</th>\n",
       "      <td>1</td>\n",
       "      <td>watch_tv_1</td>\n",
       "      <td>{'user': 'Human', 'text': 'Are you lost? ', 'i...</td>\n",
       "      <td>{'user': 'Alien', 'text': 'Got it.', 'intent':...</td>\n",
       "    </tr>\n",
       "    <tr>\n",
       "      <th>18</th>\n",
       "      <td>1</td>\n",
       "      <td>watch_tv_1</td>\n",
       "      <td>{'user': 'Alien', 'text': 'I opened the TV', '...</td>\n",
       "      <td>{'user': 'Alien', 'text': 'I see', 'intent': '...</td>\n",
       "    </tr>\n",
       "    <tr>\n",
       "      <th>33</th>\n",
       "      <td>1</td>\n",
       "      <td>watch_tv_2</td>\n",
       "      <td>{'user': 'Alien', 'text': 'I have reached livi...</td>\n",
       "      <td>{'user': 'Alien', 'text': \"Let's go! I am exci...</td>\n",
       "    </tr>\n",
       "    <tr>\n",
       "      <th>34</th>\n",
       "      <td>1</td>\n",
       "      <td>watch_tv_2</td>\n",
       "      <td>{'user': 'Alien', 'text': 'I have reached livi...</td>\n",
       "      <td>{'user': 'Alien', 'text': \"Let's go! I am exci...</td>\n",
       "    </tr>\n",
       "    <tr>\n",
       "      <th>...</th>\n",
       "      <td>...</td>\n",
       "      <td>...</td>\n",
       "      <td>...</td>\n",
       "      <td>...</td>\n",
       "    </tr>\n",
       "    <tr>\n",
       "      <th>5086</th>\n",
       "      <td>1</td>\n",
       "      <td>read_book_0</td>\n",
       "      <td>{'user': 'Alien', 'text': 'Wow I really liked ...</td>\n",
       "      <td>{'user': 'Alien', 'text': 'Okay I understand, ...</td>\n",
       "    </tr>\n",
       "    <tr>\n",
       "      <th>5090</th>\n",
       "      <td>1</td>\n",
       "      <td>read_book_0</td>\n",
       "      <td>{'user': 'Alien', 'text': 'What Should I do no...</td>\n",
       "      <td>{'user': 'Alien', 'text': 'Wow that book was a...</td>\n",
       "    </tr>\n",
       "    <tr>\n",
       "      <th>5093</th>\n",
       "      <td>1</td>\n",
       "      <td>read_book_0</td>\n",
       "      <td>{'user': 'Alien', 'text': 'Is it okay if I put...</td>\n",
       "      <td>{'user': 'Alien', 'text': 'Oh I understand I w...</td>\n",
       "    </tr>\n",
       "    <tr>\n",
       "      <th>5096</th>\n",
       "      <td>1</td>\n",
       "      <td>read_book_0</td>\n",
       "      <td>{'user': 'Human', 'text': 'Make sure you put t...</td>\n",
       "      <td>{'user': 'Alien', 'text': 'Okay I will put thi...</td>\n",
       "    </tr>\n",
       "    <tr>\n",
       "      <th>5098</th>\n",
       "      <td>1</td>\n",
       "      <td>read_book_0</td>\n",
       "      <td>{'user': 'Human', 'text': 'Now that you know h...</td>\n",
       "      <td>{'user': 'Alien', 'text': 'You are right Micha...</td>\n",
       "    </tr>\n",
       "  </tbody>\n",
       "</table>\n",
       "<p>1483 rows × 4 columns</p>\n",
       "</div>"
      ],
      "text/plain": [
       "      label     category                                         utterance2  \\\n",
       "10        1   watch_tv_1  {'user': 'Human', 'text': 'Now you have found ...   \n",
       "14        1   watch_tv_1  {'user': 'Human', 'text': 'Are you lost? ', 'i...   \n",
       "18        1   watch_tv_1  {'user': 'Alien', 'text': 'I opened the TV', '...   \n",
       "33        1   watch_tv_2  {'user': 'Alien', 'text': 'I have reached livi...   \n",
       "34        1   watch_tv_2  {'user': 'Alien', 'text': 'I have reached livi...   \n",
       "...     ...          ...                                                ...   \n",
       "5086      1  read_book_0  {'user': 'Alien', 'text': 'Wow I really liked ...   \n",
       "5090      1  read_book_0  {'user': 'Alien', 'text': 'What Should I do no...   \n",
       "5093      1  read_book_0  {'user': 'Alien', 'text': 'Is it okay if I put...   \n",
       "5096      1  read_book_0  {'user': 'Human', 'text': 'Make sure you put t...   \n",
       "5098      1  read_book_0  {'user': 'Human', 'text': 'Now that you know h...   \n",
       "\n",
       "                                             utterance1  \n",
       "10    {'user': 'Alien', 'text': \"Got it. Let's go\", ...  \n",
       "14    {'user': 'Alien', 'text': 'Got it.', 'intent':...  \n",
       "18    {'user': 'Alien', 'text': 'I see', 'intent': '...  \n",
       "33    {'user': 'Alien', 'text': \"Let's go! I am exci...  \n",
       "34    {'user': 'Alien', 'text': \"Let's go! I am exci...  \n",
       "...                                                 ...  \n",
       "5086  {'user': 'Alien', 'text': 'Okay I understand, ...  \n",
       "5090  {'user': 'Alien', 'text': 'Wow that book was a...  \n",
       "5093  {'user': 'Alien', 'text': 'Oh I understand I w...  \n",
       "5096  {'user': 'Alien', 'text': 'Okay I will put thi...  \n",
       "5098  {'user': 'Alien', 'text': 'You are right Micha...  \n",
       "\n",
       "[1483 rows x 4 columns]"
      ]
     },
     "execution_count": 7,
     "metadata": {},
     "output_type": "execute_result"
    }
   ],
   "source": [
    "#Flip\n",
    "flip=df[df['label']==1]\n",
    "cols=list(df.columns)\n",
    "cols[2], cols[3] = cols[3], cols[2]\n",
    "cols\n",
    "flip=flip[cols]\n",
    "flip"
   ]
  },
  {
   "cell_type": "code",
   "execution_count": 8,
   "metadata": {},
   "outputs": [],
   "source": [
    "flip.to_csv(\"augmented_data/simply_flipped.csv, index=False\")"
   ]
  },
  {
   "cell_type": "code",
   "execution_count": 16,
   "metadata": {},
   "outputs": [
    {
     "data": {
      "text/plain": [
       "0"
      ]
     },
     "execution_count": 16,
     "metadata": {},
     "output_type": "execute_result"
    }
   ],
   "source": [
    "x=df.to_numpy()\n"
   ]
  },
  {
   "cell_type": "code",
   "execution_count": 17,
   "metadata": {},
   "outputs": [],
   "source": [
    "t=0\n",
    "for i in range(5100):\n",
    "    if(x[i][0]==1):\n",
    "        t=t+1\n",
    "    x[i][0]=t\n"
   ]
  },
  {
   "cell_type": "code",
   "execution_count": 39,
   "metadata": {},
   "outputs": [
    {
     "data": {
      "text/plain": [
       "[array(['1', 'watch_tv_1',\n",
       "        \"{'user': 'Alien', 'text': 'Do you know TV? What is this?', 'intent': 'Ask_about_object'}\",\n",
       "        \"{'user': 'Alien', 'text': 'May I watch the TV?', 'intent': 'Ask_guidence'}\"],\n",
       "       dtype='<U88')]"
      ]
     },
     "execution_count": 39,
     "metadata": {},
     "output_type": "execute_result"
    }
   ],
   "source": [
    "L2=[]\n",
    "L2.append(np.array([1, x[1][1], x[2][2], x[3][3]]))\n",
    "L2\n",
    "# x[0]"
   ]
  },
  {
   "cell_type": "code",
   "execution_count": 40,
   "metadata": {},
   "outputs": [],
   "source": [
    "# x[0][2]\n",
    "# x[0][3]\n",
    "# x[115][0]\n",
    "L=[]\n",
    "for i in range(5100):\n",
    "    for j in range(5100):\n",
    "        if(x[i][0]!=x[j][0]):\n",
    "            L.append(np.array([1, x[i][1], x[i][2], x[j][3]]))"
   ]
  }
 ],
 "metadata": {
  "kernelspec": {
   "display_name": "base",
   "language": "python",
   "name": "python3"
  },
  "language_info": {
   "codemirror_mode": {
    "name": "ipython",
    "version": 3
   },
   "file_extension": ".py",
   "mimetype": "text/x-python",
   "name": "python",
   "nbconvert_exporter": "python",
   "pygments_lexer": "ipython3",
   "version": "3.8.5"
  }
 },
 "nbformat": 4,
 "nbformat_minor": 2
}
